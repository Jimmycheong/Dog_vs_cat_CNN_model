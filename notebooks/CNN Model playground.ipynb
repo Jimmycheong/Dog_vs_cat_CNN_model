{
 "cells": [
  {
   "cell_type": "markdown",
   "metadata": {},
   "source": [
    "# CNN model playground"
   ]
  },
  {
   "cell_type": "markdown",
   "metadata": {},
   "source": [
    "# Training "
   ]
  },
  {
   "cell_type": "code",
   "execution_count": 3,
   "metadata": {},
   "outputs": [
    {
     "name": "stdout",
     "output_type": "stream",
     "text": [
      "Found 3200 images belonging to 2 classes.\n",
      "Found 800 images belonging to 2 classes.\n",
      "Epoch 1/10\n",
      "1600/1600 [==============================] - 249s - loss: 0.5453 - acc: 0.7047 - val_loss: 0.4757 - val_acc: 0.7775\n",
      "Epoch 2/10\n",
      "1600/1600 [==============================] - 257s - loss: 0.2714 - acc: 0.8836 - val_loss: 0.6175 - val_acc: 0.7913\n",
      "Epoch 3/10\n",
      "1600/1600 [==============================] - 261s - loss: 0.1287 - acc: 0.9505 - val_loss: 0.7219 - val_acc: 0.8049\n",
      "Epoch 4/10\n",
      "1600/1600 [==============================] - 285s - loss: 0.0738 - acc: 0.9736 - val_loss: 0.8422 - val_acc: 0.8050\n",
      "Epoch 5/10\n",
      "1600/1600 [==============================] - 277s - loss: 0.0558 - acc: 0.9810 - val_loss: 0.9222 - val_acc: 0.8120\n",
      "Epoch 6/10\n",
      "1600/1600 [==============================] - 282s - loss: 0.0431 - acc: 0.9853 - val_loss: 0.9437 - val_acc: 0.8037\n",
      "Epoch 7/10\n",
      "1600/1600 [==============================] - 269s - loss: 0.0378 - acc: 0.9869 - val_loss: 0.9919 - val_acc: 0.8078\n",
      "Epoch 8/10\n",
      "1600/1600 [==============================] - 269s - loss: 0.0341 - acc: 0.9881 - val_loss: 1.0372 - val_acc: 0.7980\n",
      "Epoch 9/10\n",
      "1600/1600 [==============================] - 256s - loss: 0.0280 - acc: 0.9903 - val_loss: 1.0580 - val_acc: 0.8216\n",
      "Epoch 10/10\n",
      "1600/1600 [==============================] - 253s - loss: 0.0249 - acc: 0.9910 - val_loss: 1.0843 - val_acc: 0.8234\n",
      "Time elapsed: 25170465.6286496m 37.71897602081299s\n"
     ]
    }
   ],
   "source": [
    "import os \n",
    "import time\n",
    "from keras.models import Sequential\n",
    "from keras.layers import Convolution2D\n",
    "from keras.layers import MaxPooling2D\n",
    "from keras.layers import Flatten\n",
    "from keras.layers import Dense\n",
    "\n",
    "from keras.preprocessing.image import ImageDataGenerator\n",
    "\n",
    "# Kill warnings from Tensorflow\n",
    "os.environ['TF_CPP_MIN_LOG_LEVEL']='2'\n",
    "\n",
    "\n",
    "time_0 = time.time()\n",
    "    \n",
    "classifier = Sequential()\n",
    "\n",
    "# Convolve layer 1 \n",
    "classifier.add(Convolution2D(32, (3,3), input_shape=(64,64,3), activation=\"relu\"))\n",
    "# Pool layer 1 \n",
    "classifier.add(MaxPooling2D(pool_size= (2,2)))\n",
    "\n",
    "# Convolve layer 2 \n",
    "classifier.add(Convolution2D(64, (3,3), activation=\"relu\"))\n",
    "\n",
    "# Pool layer 2 \n",
    "classifier.add(MaxPooling2D(pool_size= (2,2)))\n",
    "\n",
    "classifier.add(Flatten())\n",
    "\n",
    "classifier.add(Dense(activation=\"relu\", units = 128))\n",
    "classifier.add(Dense(activation=\"sigmoid\", units= 1))\n",
    "\n",
    "classifier.compile(optimizer=\"adam\", loss=\"binary_crossentropy\", metrics=['accuracy'])\n",
    "\n",
    "\n",
    "# Fitting the CNN to the images\n",
    "\n",
    "train_datagen = ImageDataGenerator(\n",
    "    rescale=1./255,\n",
    "    shear_range=0.2,\n",
    "    zoom_range=0.2,\n",
    "    horizontal_flip=True\n",
    ")\n",
    "\n",
    "test_datagen = ImageDataGenerator(rescale=1./255)\n",
    "\n",
    "training_set = train_datagen.flow_from_directory(\n",
    "    'grey_images/training',\n",
    "    target_size=(64,64),\n",
    "    batch_size=32,\n",
    "    class_mode=\"binary\"\n",
    ")\n",
    "\n",
    "test_set = test_datagen.flow_from_directory(\n",
    "    'grey_images/testing',\n",
    "    target_size=(64,64),\n",
    "    batch_size=32,\n",
    "    class_mode=\"binary\"\n",
    ")\n",
    "\n",
    "classifier.fit_generator(\n",
    "    training_set,\n",
    "    steps_per_epoch=1600,\n",
    "    epochs=10,\n",
    "    validation_data=test_set,\n",
    "    validation_steps=400\n",
    ")\n",
    "\n",
    "\n",
    "duration = time.time() - time_0 \n",
    "print(\"Time elapsed: {}m {}s\".format(duration / 60, duration % 60))\n"
   ]
  },
  {
   "cell_type": "markdown",
   "metadata": {},
   "source": [
    "# Save the model"
   ]
  },
  {
   "cell_type": "code",
   "execution_count": 5,
   "metadata": {
    "collapsed": true
   },
   "outputs": [],
   "source": [
    "classifier.save(\"models/my_model_1600_400.h5\")"
   ]
  },
  {
   "cell_type": "code",
   "execution_count": 6,
   "metadata": {},
   "outputs": [
    {
     "data": {
      "text/plain": [
       "60.0"
      ]
     },
     "execution_count": 6,
     "metadata": {},
     "output_type": "execute_result"
    }
   ],
   "source": [
    "3600 / 60 "
   ]
  }
 ],
 "metadata": {
  "kernelspec": {
   "display_name": "Python 3",
   "language": "python",
   "name": "python3"
  },
  "language_info": {
   "codemirror_mode": {
    "name": "ipython",
    "version": 3
   },
   "file_extension": ".py",
   "mimetype": "text/x-python",
   "name": "python",
   "nbconvert_exporter": "python",
   "pygments_lexer": "ipython3",
   "version": "3.6.1"
  }
 },
 "nbformat": 4,
 "nbformat_minor": 2
}
